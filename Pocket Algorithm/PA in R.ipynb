{
 "cells": [
  {
   "cell_type": "markdown",
   "metadata": {},
   "source": [
    "******************************\n",
    "# Pocket Algorithm\n",
    "******************************\n",
    "\n",
    "This is fundamentally a perceptron that learns with **\"memory\"** by utilizing the result of its last iteration"
   ]
  },
  {
   "cell_type": "code",
   "execution_count": 104,
   "metadata": {},
   "outputs": [],
   "source": [
    "x1 <- (-5)\n",
    "y1 <- (-1)\n",
    "x2 <- 3\n",
    "y2 <- 4"
   ]
  },
  {
   "cell_type": "markdown",
   "metadata": {},
   "source": [
    "This code will be classifying objects according to an arbitrary line and coloring those points on either side of it."
   ]
  },
  {
   "cell_type": "code",
   "execution_count": 105,
   "metadata": {},
   "outputs": [],
   "source": [
    "x <- runif(2, min = x1, max = x2)\n",
    "y <- runif(2, min = y1, max = y2)\n",
    "fit <- (lm(y~x))"
   ]
  },
  {
   "cell_type": "markdown",
   "metadata": {},
   "source": [
    "This **t** variable is nothing but the intercept and bias from the fitline above."
   ]
  },
  {
   "cell_type": "code",
   "execution_count": 106,
   "metadata": {},
   "outputs": [
    {
     "data": {
      "text/html": [
       "<style>\n",
       ".dl-inline {width: auto; margin:0; padding: 0}\n",
       ".dl-inline>dt, .dl-inline>dd {float: none; width: auto; display: inline-block}\n",
       ".dl-inline>dt::after {content: \":\\0020\"; padding-right: .5ex}\n",
       ".dl-inline>dt:not(:first-of-type) {padding-left: .5ex}\n",
       "</style><dl class=dl-inline><dt>(Intercept)</dt><dd>1.4666257449532</dd><dt>x</dt><dd>-2.4605398986885</dd></dl>\n"
      ],
      "text/latex": [
       "\\begin{description*}\n",
       "\\item[(Intercept)] 1.4666257449532\n",
       "\\item[x] -2.4605398986885\n",
       "\\end{description*}\n"
      ],
      "text/markdown": [
       "(Intercept)\n",
       ":   1.4666257449532x\n",
       ":   -2.4605398986885\n",
       "\n"
      ],
      "text/plain": [
       "(Intercept)           x \n",
       "   1.466626   -2.460540 "
      ]
     },
     "metadata": {},
     "output_type": "display_data"
    }
   ],
   "source": [
    "t <- summary(fit)$coefficients[,1]\n",
    "t"
   ]
  },
  {
   "cell_type": "markdown",
   "metadata": {},
   "source": [
    "This f function receive tuple object and returns a y value dpendent on this variable. It follows the format of $$y(x)=m*x+b$$"
   ]
  },
  {
   "cell_type": "code",
   "execution_count": 107,
   "metadata": {
    "scrolled": true
   },
   "outputs": [
    {
     "data": {
      "text/html": [
       "<strong>x:</strong> -0.993914153735296"
      ],
      "text/latex": [
       "\\textbf{x:} -0.993914153735296"
      ],
      "text/markdown": [
       "**x:** -0.993914153735296"
      ],
      "text/plain": [
       "         x \n",
       "-0.9939142 "
      ]
     },
     "metadata": {},
     "output_type": "display_data"
    }
   ],
   "source": [
    "f <- function(x){\n",
    "  t[2]*x + t[1]\n",
    "}\n",
    "f(1)"
   ]
  },
  {
   "cell_type": "markdown",
   "metadata": {},
   "source": [
    "# Now we have produced\n",
    "\n",
    "1) N number of data points\n",
    "\n",
    "2) A 2 row matrix random entries\n",
    "\n",
    "3) A 1 row matrix of hot encoded values dependent on what side of the line they are on\n"
   ]
  },
  {
   "cell_type": "code",
   "execution_count": 108,
   "metadata": {},
   "outputs": [
    {
     "data": {
      "text/html": [
       "<table>\n",
       "<caption>A matrix: 2 × 100 of type dbl</caption>\n",
       "<tbody>\n",
       "\t<tr><td>-3.0643039</td><td> 2.040262</td><td> 1.892646</td><td> 2.044367535</td><td> 1.252871</td><td>-1.624177</td><td> 2.6192646</td><td>-0.1624643</td><td>-4.91544</td><td> 0.4841827</td><td>...</td><td>-4.8829618</td><td>-4.9275314</td><td>-0.4652072</td><td>-2.681530</td><td> 0.6728986</td><td>-1.829159</td><td>1.758830</td><td>-1.730044</td><td>-1.435022</td><td>-1.123573</td></tr>\n",
       "\t<tr><td> 0.9212645</td><td>-3.873639</td><td>-1.349345</td><td>-0.009859994</td><td>-2.723019</td><td>-2.442945</td><td>-0.5942577</td><td> 2.3976185</td><td> 2.58259</td><td>-1.5493467</td><td>...</td><td>-0.1481438</td><td> 0.3187433</td><td>-1.0137127</td><td>-3.489872</td><td>-1.3098614</td><td>-3.132410</td><td>2.813195</td><td>-4.472666</td><td> 1.879888</td><td>-3.779905</td></tr>\n",
       "</tbody>\n",
       "</table>\n"
      ],
      "text/latex": [
       "A matrix: 2 × 100 of type dbl\n",
       "\\begin{tabular}{lllllllllllllllllllll}\n",
       "\t -3.0643039 &  2.040262 &  1.892646 &  2.044367535 &  1.252871 & -1.624177 &  2.6192646 & -0.1624643 & -4.91544 &  0.4841827 & ... & -4.8829618 & -4.9275314 & -0.4652072 & -2.681530 &  0.6728986 & -1.829159 & 1.758830 & -1.730044 & -1.435022 & -1.123573\\\\\n",
       "\t  0.9212645 & -3.873639 & -1.349345 & -0.009859994 & -2.723019 & -2.442945 & -0.5942577 &  2.3976185 &  2.58259 & -1.5493467 & ... & -0.1481438 &  0.3187433 & -1.0137127 & -3.489872 & -1.3098614 & -3.132410 & 2.813195 & -4.472666 &  1.879888 & -3.779905\\\\\n",
       "\\end{tabular}\n"
      ],
      "text/markdown": [
       "\n",
       "A matrix: 2 × 100 of type dbl\n",
       "\n",
       "| -3.0643039 |  2.040262 |  1.892646 |  2.044367535 |  1.252871 | -1.624177 |  2.6192646 | -0.1624643 | -4.91544 |  0.4841827 | ... | -4.8829618 | -4.9275314 | -0.4652072 | -2.681530 |  0.6728986 | -1.829159 | 1.758830 | -1.730044 | -1.435022 | -1.123573 |\n",
       "|  0.9212645 | -3.873639 | -1.349345 | -0.009859994 | -2.723019 | -2.442945 | -0.5942577 |  2.3976185 |  2.58259 | -1.5493467 | ... | -0.1481438 |  0.3187433 | -1.0137127 | -3.489872 | -1.3098614 | -3.132410 | 2.813195 | -4.472666 |  1.879888 | -3.779905 |\n",
       "\n"
      ],
      "text/plain": [
       "     [,1]       [,2]      [,3]      [,4]         [,5]      [,6]      [,7]      \n",
       "[1,] -3.0643039  2.040262  1.892646  2.044367535  1.252871 -1.624177  2.6192646\n",
       "[2,]  0.9212645 -3.873639 -1.349345 -0.009859994 -2.723019 -2.442945 -0.5942577\n",
       "     [,8]       [,9]     [,10]      [,11] [,12]      [,13]      [,14]     \n",
       "[1,] -0.1624643 -4.91544  0.4841827 ...   -4.8829618 -4.9275314 -0.4652072\n",
       "[2,]  2.3976185  2.58259 -1.5493467 ...   -0.1481438  0.3187433 -1.0137127\n",
       "     [,15]     [,16]      [,17]     [,18]    [,19]     [,20]     [,21]    \n",
       "[1,] -2.681530  0.6728986 -1.829159 1.758830 -1.730044 -1.435022 -1.123573\n",
       "[2,] -3.489872 -1.3098614 -3.132410 2.813195 -4.472666  1.879888 -3.779905"
      ]
     },
     "metadata": {},
     "output_type": "display_data"
    },
    {
     "data": {
      "text/html": [
       "<table>\n",
       "<caption>A matrix: 1 × 100 of type dbl</caption>\n",
       "<tbody>\n",
       "\t<tr><td>-1</td><td>-1</td><td>1</td><td>1</td><td>-1</td><td>-1</td><td>1</td><td>1</td><td>-1</td><td>-1</td><td>...</td><td>-1</td><td>-1</td><td>-1</td><td>-1</td><td>-1</td><td>-1</td><td>1</td><td>-1</td><td>-1</td><td>-1</td></tr>\n",
       "</tbody>\n",
       "</table>\n"
      ],
      "text/latex": [
       "A matrix: 1 × 100 of type dbl\n",
       "\\begin{tabular}{lllllllllllllllllllll}\n",
       "\t -1 & -1 & 1 & 1 & -1 & -1 & 1 & 1 & -1 & -1 & ... & -1 & -1 & -1 & -1 & -1 & -1 & 1 & -1 & -1 & -1\\\\\n",
       "\\end{tabular}\n"
      ],
      "text/markdown": [
       "\n",
       "A matrix: 1 × 100 of type dbl\n",
       "\n",
       "| -1 | -1 | 1 | 1 | -1 | -1 | 1 | 1 | -1 | -1 | ... | -1 | -1 | -1 | -1 | -1 | -1 | 1 | -1 | -1 | -1 |\n",
       "\n"
      ],
      "text/plain": [
       "     [,1] [,2] [,3] [,4] [,5] [,6] [,7] [,8] [,9] [,10] [,11] [,12] [,13] [,14]\n",
       "[1,] -1   -1   1    1    -1   -1   1    1    -1   -1    ...   -1    -1    -1   \n",
       "     [,15] [,16] [,17] [,18] [,19] [,20] [,21]\n",
       "[1,] -1    -1    -1    1     -1    -1    -1   "
      ]
     },
     "metadata": {},
     "output_type": "display_data"
    }
   ],
   "source": [
    "N <- 100\n",
    "A <- matrix(ncol=N, nrow=2)\n",
    "b <- matrix(ncol=N, nrow=1)\n",
    "for(i in 1:N){\n",
    "  A[, i] <- c(runif(2, min = x1, max = x2))\n",
    "  b[1, i] <- sign(A[2, i] - f(A[1, i]))\n",
    "}\n",
    "head(A)\n",
    "head(b)"
   ]
  },
  {
   "cell_type": "markdown",
   "metadata": {},
   "source": [
    "# Visualizing the Data and Fit Line"
   ]
  },
  {
   "cell_type": "code",
   "execution_count": 109,
   "metadata": {},
   "outputs": [
    {
     "data": {
      "image/png": "[encoded data removed]",
      "text/plain": [
       "plot without title"
      ]
     },
     "metadata": {
      "image/png": {
       "height": 720,
       "width": 720
      },
      "text/plain": {
       "height": 720,
       "width": 720
      }
     },
     "output_type": "display_data"
    }
   ],
   "source": [
    "library(repr)\n",
    "library(ggplot2)\n",
    "\n",
    "options(repr.plot.width=12, repr.plot.height=12)\n",
    "plot(A[1, ], A[2, ]) # plot(x,y) format\n",
    "abline(fit,col=\"red\") \n",
    "k=which(b==1)\n",
    "m=which(b==-1)\n",
    "points(A[1,k], A[2,k], col=\"blue\",  pch = 24)\n",
    "points(A[1,m], A[2,m], col=\"green\", pch = 22)"
   ]
  },
  {
   "cell_type": "markdown",
   "metadata": {},
   "source": [
    "# Initialize Random Weights"
   ]
  },
  {
   "cell_type": "code",
   "execution_count": 110,
   "metadata": {},
   "outputs": [
    {
     "name": "stdout",
     "output_type": "stream",
     "text": [
      "[1] 0 0 0\n"
     ]
    }
   ],
   "source": [
    "w <- rep(0,3)\n",
    "print(w)"
   ]
  },
  {
   "cell_type": "markdown",
   "metadata": {},
   "source": [
    "Now we need a function that will approximate he one hot encoded value that already exist by accepting just the weights. The g function that we have below is going to be adjusted intermittently until it mimicks F perfectly.\n",
    "\n",
    "1) **t(w)** is the transpose of w which is our vector\n",
    "\n",
    "2) the %*% is our matrix multiplication operator"
   ]
  },
  {
   "cell_type": "code",
   "execution_count": 111,
   "metadata": {},
   "outputs": [],
   "source": [
    "g <- function(z){\n",
    "    t(w) %*% z\n",
    "}"
   ]
  },
  {
   "cell_type": "markdown",
   "metadata": {},
   "source": [
    "# Code\n",
    "The majority of this code was used from reference but is broken into these portions\n",
    "***\n",
    "### Update Rule\n",
    "***\n",
    "* j is a single sample number used to index A later.\n",
    "\n",
    "**First if loop**\n",
    "\n",
    "* if the sign returned by the hypothesis function matches both 0 and its similar one hot encoded value the weight adds w in the brackets after.\n",
    "\n",
    "**For Loop**\n",
    "* If the sign of the sampled point equals its actual weight the formula after returns a proportion of the time the preiction function is correct.\n",
    "* If this works correctly this list will be a min followed by increasing values\n",
    "\n",
    "**Last if Loop**\n",
    "* if the very last iteration is the MAX training accuracy yet, it is set as the new \"memory\"\n",
    "* iterate i by one to continue until the bbreak value in the while loop\n",
    "* lastly the final training accuracy is the best"
   ]
  },
  {
   "cell_type": "code",
   "execution_count": 112,
   "metadata": {},
   "outputs": [],
   "source": [
    "w_pocket <- w\n",
    "training_accuracy <- 0 \n",
    "pocket_accuracy <- 0\n",
    "i_pocket <-0\n",
    "i <- 1\n",
    "\n",
    "while(i < 2*N+1){\n",
    "    \n",
    "  j = sample(1:N, 1)\n",
    "    # Update Rule\n",
    "  if((sign(g(c(1, A[, j]))) == b[1, j]) == 0){\n",
    "      \n",
    "    w <- w + b[1, j]*c(1, A[, j])\n",
    "  }\n",
    "    \n",
    "  training_accuracy<-c(training_accuracy,0)\n",
    "\n",
    "    # Training Record\n",
    "  for(k in 1:N){\n",
    "    if(sign(g(c(1, A[,k ]))) == b[, k]){\n",
    "      training_accuracy[length(training_accuracy)] <- training_accuracy[length(training_accuracy)] + 1/N\n",
    "    }\n",
    "  }\n",
    "    # Retain best memory of weights\n",
    "  if(tail(training_accuracy,1)>max(head(training_accuracy,-1))){\n",
    "    w_pocket<-w\n",
    "    i_pocket<-i\n",
    "    pocket_accuracy<- tail(training_accuracy,1)\n",
    "  }\n",
    "    \n",
    "  i = i + 1\n",
    "\n",
    "}\n",
    "\n",
    "final_training_accuracy <- tail(training_accuracy,1)"
   ]
  },
  {
   "cell_type": "code",
   "execution_count": 127,
   "metadata": {},
   "outputs": [
    {
     "data": {
      "image/png": "[encoded data removed]",
      "text/plain": [
       "Plot with title \"Accuracy\""
      ]
     },
     "metadata": {
      "image/png": {
       "height": 720,
       "width": 720
      },
      "text/plain": {
       "height": 720,
       "width": 720
      }
     },
     "output_type": "display_data"
    }
   ],
   "source": [
    "plot(training_accuracy,ylim=c(0.0,1.0),type='s',\n",
    "     lwd=5,col='red',main=\"Accuracy\",xlab=\"Iterations\",\n",
    "    ylab=\"Training Accuracy\")"
   ]
  }
 ],
 "metadata": {
  "kernelspec": {
   "display_name": "R",
   "language": "R",
   "name": "ir"
  },
  "language_info": {
   "codemirror_mode": "r",
   "file_extension": ".r",
   "mimetype": "text/x-r-source",
   "name": "R",
   "pygments_lexer": "r",
   "version": "3.6.1"
  }
 },
 "nbformat": 4,
 "nbformat_minor": 4
}
