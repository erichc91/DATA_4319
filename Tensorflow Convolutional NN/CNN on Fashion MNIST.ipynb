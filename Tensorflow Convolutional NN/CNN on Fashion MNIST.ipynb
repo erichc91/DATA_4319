{
 "cells": [
  {
   "cell_type": "code",
   "execution_count": 1,
   "metadata": {
    "scrolled": true
   },
   "outputs": [
    {
     "name": "stderr",
     "output_type": "stream",
     "text": [
      "Using TensorFlow backend.\n"
     ]
    }
   ],
   "source": [
    "import numpy as np\n",
    "import tensorflow as tf\n",
    "import keras\n",
    "import matplotlib.pyplot as plt\n",
    "import pandas as pd"
   ]
  },
  {
   "cell_type": "code",
   "execution_count": 2,
   "metadata": {},
   "outputs": [],
   "source": [
    "dat = keras.datasets.fashion_mnist\n",
    "(train_images,train_labels),(test_images,test_labels) = dat.load_data()"
   ]
  },
  {
   "cell_type": "code",
   "execution_count": 3,
   "metadata": {},
   "outputs": [
    {
     "data": {
      "image/png": "[encoded data removed]",
      "text/plain": [
       "<Figure size 432x288 with 2 Axes>"
      ]
     },
     "metadata": {
      "needs_background": "light"
     },
     "output_type": "display_data"
    }
   ],
   "source": [
    "plt.imshow(train_images[1],cmap=\"winter\")\n",
    "plt.colorbar()\n",
    "plt.show()"
   ]
  },
  {
   "cell_type": "markdown",
   "metadata": {},
   "source": [
    "From the colorbar above we see the values are in the range from 0 to 255. If we divide every index in this matri by 255 it will **normalize** the data such that when computation is applied we do not need to worry about runoff error."
   ]
  },
  {
   "cell_type": "code",
   "execution_count": 4,
   "metadata": {},
   "outputs": [],
   "source": [
    "train_images = train_images/255.0\n",
    "test_images = test_images/255.0"
   ]
  },
  {
   "cell_type": "markdown",
   "metadata": {},
   "source": [
    "Done"
   ]
  },
  {
   "cell_type": "code",
   "execution_count": 5,
   "metadata": {},
   "outputs": [
    {
     "data": {
      "image/png": "[encoded data removed]",
      "text/plain": [
       "<Figure size 432x288 with 2 Axes>"
      ]
     },
     "metadata": {
      "needs_background": "light"
     },
     "output_type": "display_data"
    }
   ],
   "source": [
    "plt.imshow(train_images[1],cmap=\"winter\")\n",
    "plt.colorbar()\n",
    "plt.show()"
   ]
  },
  {
   "cell_type": "markdown",
   "metadata": {},
   "source": [
    "The colorbar now shows the difference in range values. What was once **255** is now between **0 and 1**."
   ]
  },
  {
   "cell_type": "markdown",
   "metadata": {},
   "source": [
    "***\n",
    "## Reshaping and why\n",
    "***\n",
    "A convolutional layer requires to now how many color channels are in a given image. Typically there are only ever need three, corresponding to all colors are just shades of red, green, and blue. However because this greyscale is white or black on a scale of 0 to 1, we will reshape our 60,000 strong dataset into 60,000, 28 x 28 pixel, with 1 channel.\n",
    "\n",
    "It is now a 3d tensor with 28 by 28 dimensions and one value thick."
   ]
  },
  {
   "cell_type": "code",
   "execution_count": 6,
   "metadata": {},
   "outputs": [
    {
     "name": "stdout",
     "output_type": "stream",
     "text": [
      "60000\n",
      "(60000, 28, 28, 1)\n"
     ]
    }
   ],
   "source": [
    "shape_of_image = train_images.shape[0]\n",
    "print(shape_of_image)\n",
    "trainx = train_images.reshape(train_images.shape[0],28,28,1)\n",
    "print(trainx.shape)\n",
    "testx = test_images.reshape(test_images.shape[0],28,28,1)"
   ]
  },
  {
   "cell_type": "markdown",
   "metadata": {},
   "source": [
    "# One Hot encoded in one line"
   ]
  },
  {
   "cell_type": "code",
   "execution_count": 7,
   "metadata": {},
   "outputs": [
    {
     "name": "stdout",
     "output_type": "stream",
     "text": [
      "[0. 0. 0. 0. 0. 1. 0. 0. 0. 0.]\n"
     ]
    }
   ],
   "source": [
    "trainy = keras.preprocessing.utils.to_categorical(train_labels)\n",
    "testy = keras.preprocessing.utils.to_categorical(test_labels)\n",
    "print(trainy[np.random.randint(1,60000)])"
   ]
  },
  {
   "cell_type": "markdown",
   "metadata": {},
   "source": [
    "***\n",
    "# Model Building\n",
    "***\n",
    "* As per mine decision I decided to demonstrate my knowledge of Tensorflow using one of the more complicated network architechtures as a CNN.\n",
    "* It should demonstrate Max Pooling, Strides and filters and their functions.\n",
    "\n",
    "***\n",
    "### CNN Features\n",
    "***\n",
    "* Firstly a CNN layer has a filter and stride\n",
    "* **Filters** are a matrix of a defined size that will be applied to an actvation algorithm that will return one value that will take the place in the next layer input.\n",
    "* **Stride** simply ask how many pixels over should the filter shift before being applied to the next filter size in the original image.\n",
    "* And finally **Max Pooling** simply takes the maximum value (based on a defined filter size) of a filter and just reshapes the image to one pixel which is the max value of that filter."
   ]
  },
  {
   "cell_type": "markdown",
   "metadata": {},
   "source": [
    "The images are all 28 by 28 pixels of one color where the \"colors\" of the image are ranges from 0 to 1. This input will given to my model."
   ]
  },
  {
   "cell_type": "code",
   "execution_count": 8,
   "metadata": {},
   "outputs": [],
   "source": [
    "model = keras.Sequential() # A format that lays the next code as \n",
    "                        # a model being built layer by layer as it is read\n",
    "model.add(keras.layers.Conv2D(32, (3,3), activation=\"relu\",input_shape=(28,28,1)))\n",
    "\n",
    "# Conv2D( output size, dimension of filter map, activation algo, shape of input)\n",
    "# shape of input requires dimension of object including color channel"
   ]
  },
  {
   "cell_type": "markdown",
   "metadata": {},
   "source": [
    "This first Convulution layer has a \"relu\" activation. For a more exstensive explanation look [here](https://machinelearningmastery.com/rectified-linear-activation-function-for-deep-learning-neural-networks/) . The vanishing gradient problem essentially states that backpropogation will eventually in very deep nueral nets return gradients with **incredibly** small gradients effectively making the weights to not change at all.\n",
    "\n",
    "The *relu* activation retifies this."
   ]
  },
  {
   "cell_type": "markdown",
   "metadata": {},
   "source": [
    "## The Rest of the Model"
   ]
  },
  {
   "cell_type": "code",
   "execution_count": 9,
   "metadata": {},
   "outputs": [],
   "source": [
    "model.add(keras.layers.MaxPooling2D((2,2)))\n",
    "model.add(keras.layers.Flatten())\n",
    "model.add(keras.layers.Dense(100, activation='relu'))\n",
    "model.add(keras.layers.Dense(10, activation='softmax')) # softmax is the sigmoid activation function"
   ]
  },
  {
   "cell_type": "markdown",
   "metadata": {},
   "source": [
    "## Optimizer and Compilation"
   ]
  },
  {
   "cell_type": "code",
   "execution_count": 10,
   "metadata": {},
   "outputs": [],
   "source": [
    "opt = keras.optimizers.SGD(lr=0.01, momentum=0.9)\n",
    "# Stochastic gradient descent, learning rate\n",
    "# momentum is the rate at which a optimizer will *fall* in the gradient direction"
   ]
  },
  {
   "cell_type": "markdown",
   "metadata": {},
   "source": [
    "Before the model is trained it requires a:\n",
    "***\n",
    "### Compilation Layer\n",
    "***\n",
    "* **optimizer** = a class of optimizers and algo for it\n",
    "* **loss function** = the object to minimize in the model\n",
    "* **metrics**  = can be a list or one object of categorical information about your model and performance"
   ]
  },
  {
   "cell_type": "code",
   "execution_count": 11,
   "metadata": {},
   "outputs": [],
   "source": [
    "model.compile(optimizer=opt, loss='categorical_crossentropy', metrics=['accuracy'])\n",
    "# the accuracy requires a predicted value to measure agains a true value"
   ]
  },
  {
   "cell_type": "code",
   "execution_count": 12,
   "metadata": {},
   "outputs": [
    {
     "name": "stdout",
     "output_type": "stream",
     "text": [
      "Train on 60000 samples, validate on 10000 samples\n",
      "Epoch 1/10\n",
      "60000/60000 [==============================] - 37s 620us/step - loss: 0.4802 - accuracy: 0.8276 - val_loss: 0.3463 - val_accuracy: 0.8731\n",
      "Epoch 2/10\n",
      "60000/60000 [==============================] - 40s 667us/step - loss: 0.3098 - accuracy: 0.8869 - val_loss: 0.3003 - val_accuracy: 0.8921\n",
      "Epoch 3/10\n",
      "60000/60000 [==============================] - 38s 635us/step - loss: 0.2655 - accuracy: 0.9020 - val_loss: 0.2873 - val_accuracy: 0.8964\n",
      "Epoch 4/10\n",
      "60000/60000 [==============================] - 39s 649us/step - loss: 0.2394 - accuracy: 0.9119 - val_loss: 0.2756 - val_accuracy: 0.8972\n",
      "Epoch 5/10\n",
      "60000/60000 [==============================] - 33s 553us/step - loss: 0.2145 - accuracy: 0.9200 - val_loss: 0.2710 - val_accuracy: 0.9012\n",
      "Epoch 6/10\n",
      "60000/60000 [==============================] - 32s 527us/step - loss: 0.1965 - accuracy: 0.9271 - val_loss: 0.2600 - val_accuracy: 0.9067\n",
      "Epoch 7/10\n",
      "60000/60000 [==============================] - 32s 534us/step - loss: 0.1796 - accuracy: 0.9328 - val_loss: 0.2615 - val_accuracy: 0.9093\n",
      "Epoch 8/10\n",
      "60000/60000 [==============================] - 34s 564us/step - loss: 0.1638 - accuracy: 0.9386 - val_loss: 0.2627 - val_accuracy: 0.9096\n",
      "Epoch 9/10\n",
      "60000/60000 [==============================] - 32s 537us/step - loss: 0.1524 - accuracy: 0.9429 - val_loss: 0.2864 - val_accuracy: 0.9058\n",
      "Epoch 10/10\n",
      "60000/60000 [==============================] - 31s 511us/step - loss: 0.1383 - accuracy: 0.9477 - val_loss: 0.3001 - val_accuracy: 0.9009\n"
     ]
    },
    {
     "data": {
      "text/plain": [
       "<keras.callbacks.callbacks.History at 0x1d6ead7ee48>"
      ]
     },
     "execution_count": 12,
     "metadata": {},
     "output_type": "execute_result"
    }
   ],
   "source": [
    "model.fit(trainx, trainy, epochs=10, batch_size=32, validation_data=(testx, testy))"
   ]
  },
  {
   "cell_type": "code",
   "execution_count": 13,
   "metadata": {},
   "outputs": [],
   "source": [
    "info_pd = pd.DataFrame(model.history.history)\n",
    "info_pd.head()\n",
    "info_pd = info_pd.rename(columns={\"val_loss\":\"Error on Testing Set\",\n",
    "                       \"val_accuracy\":\"Accuracy on Testing Set\",\n",
    "                       \"loss\":\"Loss based on Training Data\",\n",
    "                       \"accuracy\":\"Accuracy on Training Data\"})"
   ]
  },
  {
   "cell_type": "code",
   "execution_count": 14,
   "metadata": {
    "scrolled": false
   },
   "outputs": [
    {
     "data": {
      "image/png": "[encoded data removed]",
      "text/plain": [
       "<Figure size 1296x864 with 1 Axes>"
      ]
     },
     "metadata": {
      "needs_background": "light"
     },
     "output_type": "display_data"
    }
   ],
   "source": [
    "ax = info_pd.plot(figsize=(18,12))\n",
    "ax.set_ylabel(\"Percent\")\n",
    "ax.set_xlabel(\"Number of Epochs\")\n",
    "ax.set_title(\"Data of Model\")\n",
    "plt.show()"
   ]
  },
  {
   "cell_type": "code",
   "execution_count": null,
   "metadata": {},
   "outputs": [],
   "source": []
  }
 ],
 "metadata": {
  "kernelspec": {
   "display_name": "Python 3",
   "language": "python",
   "name": "python3"
  },
  "language_info": {
   "codemirror_mode": {
    "name": "ipython",
    "version": 3
   },
   "file_extension": ".py",
   "mimetype": "text/x-python",
   "name": "python",
   "nbconvert_exporter": "python",
   "pygments_lexer": "ipython3",
   "version": "3.7.1"
  }
 },
 "nbformat": 4,
 "nbformat_minor": 4
}
